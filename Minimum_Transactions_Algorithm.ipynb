{
 "cells": [
  {
   "cell_type": "code",
   "execution_count": 1,
   "id": "ebec006b-870d-4f29-9f18-783ed821fec8",
   "metadata": {},
   "outputs": [],
   "source": [
    "import pandas as pd\n",
    "import itertools"
   ]
  },
  {
   "cell_type": "code",
   "execution_count": 2,
   "id": "a7e3753e-0ecd-4612-8b83-d98a788596f8",
   "metadata": {},
   "outputs": [],
   "source": [
    "data = {'Transactions': [10, 7, 5, 11, 12, 9,18],\n",
    "        'Eric': [10,0,0,0,0,0,7],\n",
    "        'B': [0,7,0,0,0,0,0],\n",
    "        'C': [0,0,5,0,0,0,5],\n",
    "        'D': [0,0,0,11,0,0,3],\n",
    "        'E': [0,0,0,0,12,0,2],\n",
    "        'F': [0,0,0,0,0,9,1],\n",
    "       }"
   ]
  },
  {
   "cell_type": "code",
   "execution_count": 3,
   "id": "32963990-8b85-47dc-bcb1-94186d74e93c",
   "metadata": {},
   "outputs": [],
   "source": [
    "data = {'Transactions': [100,3,5,8,10],\n",
    "        'Eric': [100,3,0,0,0],\n",
    "        'B': [0,0,5,0,0],\n",
    "        'C': [0,0,0,0,0],\n",
    "        'D': [0,0,0,8,0],\n",
    "        'E': [0,0,0,0,10],\n",
    "        'F': [0,0,0,0,0],\n",
    "       }"
   ]
  },
  {
   "cell_type": "code",
   "execution_count": 4,
   "id": "ce78bcaf-c53b-4c2b-8802-a16c45426545",
   "metadata": {
    "tags": []
   },
   "outputs": [],
   "source": [
    "data = {'Transactions': [100,3,5,8,10],\n",
    "        'Eric': [50,3,0,0,0],\n",
    "        'B': [50,0,5,0,0],\n",
    "        'C': [0,0,0,0,0],\n",
    "        'D': [0,0,0,8,0],\n",
    "        'E': [0,0,0,0,10],\n",
    "        'F': [0,0,0,0,0],\n",
    "       }"
   ]
  },
  {
   "cell_type": "code",
   "execution_count": 5,
   "id": "d5d18eb4-85b2-4303-8d2d-1a0ff4ef3cdd",
   "metadata": {},
   "outputs": [],
   "source": [
    "#what if some transactions only apply to certain members?\n",
    "data = {'Transactions': [86.2,25.4,163.5,81,268,12.42,37.85],\n",
    "        'Eric': [0,0,0,0,268,12.42,0],\n",
    "        'Mo': [86.2,25.4,0,0,0,0,0],\n",
    "        'Harris': [0,0,163.5,0,0,0,0],\n",
    "        'Shawaiz': [0,0,0,81,0,0,0],\n",
    "        'Matt': [0,0,0,0,0,0,37.85],\n",
    "       }"
   ]
  },
  {
   "cell_type": "code",
   "execution_count": 6,
   "id": "f9618984-55a8-44fb-a8bd-adf280077eba",
   "metadata": {},
   "outputs": [],
   "source": [
    "data = {'Transactions': [10,20,30],\n",
    "        'A':[10,0,0],\n",
    "        'B':[0,20,0],\n",
    "        'C':[0,0,30],\n",
    "       }"
   ]
  },
  {
   "cell_type": "code",
   "execution_count": 7,
   "id": "39568233-dde2-4431-aca3-bdebc92507ff",
   "metadata": {},
   "outputs": [],
   "source": [
    "data = {'Transactions': [10,20,30,40,50,60,70,80,90,100],\n",
    "        'A':[10,0,30,0,0,0,0,0,0,50],\n",
    "        'B':[0,20,0,0,0,0,0,0,0,0],\n",
    "        'C':[0,0,0,40,0,0,0,0,0,10],\n",
    "        'D':[0,0,0,0,50,0,0,0,0,0],\n",
    "        'E':[0,0,0,0,0,60,0,0,0,40],\n",
    "        'F':[0,0,0,0,0,0,70,0,0,0],\n",
    "        'G':[0,0,0,0,0,0,0,80,0,0],\n",
    "        'H':[0,0,0,0,0,0,0,0,90,0],\n",
    "       }"
   ]
  },
  {
   "cell_type": "code",
   "execution_count": 8,
   "id": "ff57be1d-a47c-4867-be32-4274bd4b26c1",
   "metadata": {},
   "outputs": [],
   "source": [
    "\n",
    "df = pd.DataFrame(data)\n",
    "number_users = df.shape[1]-1\n",
    "user_sums= []\n",
    "for i in range(number_users):\n",
    "    user_sums.append(sum(df.iloc[:,i+1]))\n",
    "totalcost = sum(df.Transactions)\n",
    "totalcost_per_user = round(totalcost/number_users,2)\n",
    "difference_per_user = [(x - totalcost_per_user) for x in user_sums]\n",
    "difference_per_user_2 = difference_per_user"
   ]
  },
  {
   "cell_type": "code",
   "execution_count": 9,
   "id": "6b69b956-c714-4efe-b46c-5d6d89bc5a33",
   "metadata": {},
   "outputs": [
    {
     "data": {
      "text/html": [
       "<div>\n",
       "<style scoped>\n",
       "    .dataframe tbody tr th:only-of-type {\n",
       "        vertical-align: middle;\n",
       "    }\n",
       "\n",
       "    .dataframe tbody tr th {\n",
       "        vertical-align: top;\n",
       "    }\n",
       "\n",
       "    .dataframe thead th {\n",
       "        text-align: right;\n",
       "    }\n",
       "</style>\n",
       "<table border=\"1\" class=\"dataframe\">\n",
       "  <thead>\n",
       "    <tr style=\"text-align: right;\">\n",
       "      <th></th>\n",
       "      <th>Transactions</th>\n",
       "      <th>A</th>\n",
       "      <th>B</th>\n",
       "      <th>C</th>\n",
       "      <th>D</th>\n",
       "      <th>E</th>\n",
       "      <th>F</th>\n",
       "      <th>G</th>\n",
       "      <th>H</th>\n",
       "    </tr>\n",
       "  </thead>\n",
       "  <tbody>\n",
       "    <tr>\n",
       "      <th>0</th>\n",
       "      <td>10</td>\n",
       "      <td>10</td>\n",
       "      <td>0</td>\n",
       "      <td>0</td>\n",
       "      <td>0</td>\n",
       "      <td>0</td>\n",
       "      <td>0</td>\n",
       "      <td>0</td>\n",
       "      <td>0</td>\n",
       "    </tr>\n",
       "    <tr>\n",
       "      <th>1</th>\n",
       "      <td>20</td>\n",
       "      <td>0</td>\n",
       "      <td>20</td>\n",
       "      <td>0</td>\n",
       "      <td>0</td>\n",
       "      <td>0</td>\n",
       "      <td>0</td>\n",
       "      <td>0</td>\n",
       "      <td>0</td>\n",
       "    </tr>\n",
       "    <tr>\n",
       "      <th>2</th>\n",
       "      <td>30</td>\n",
       "      <td>30</td>\n",
       "      <td>0</td>\n",
       "      <td>0</td>\n",
       "      <td>0</td>\n",
       "      <td>0</td>\n",
       "      <td>0</td>\n",
       "      <td>0</td>\n",
       "      <td>0</td>\n",
       "    </tr>\n",
       "    <tr>\n",
       "      <th>3</th>\n",
       "      <td>40</td>\n",
       "      <td>0</td>\n",
       "      <td>0</td>\n",
       "      <td>40</td>\n",
       "      <td>0</td>\n",
       "      <td>0</td>\n",
       "      <td>0</td>\n",
       "      <td>0</td>\n",
       "      <td>0</td>\n",
       "    </tr>\n",
       "    <tr>\n",
       "      <th>4</th>\n",
       "      <td>50</td>\n",
       "      <td>0</td>\n",
       "      <td>0</td>\n",
       "      <td>0</td>\n",
       "      <td>50</td>\n",
       "      <td>0</td>\n",
       "      <td>0</td>\n",
       "      <td>0</td>\n",
       "      <td>0</td>\n",
       "    </tr>\n",
       "    <tr>\n",
       "      <th>5</th>\n",
       "      <td>60</td>\n",
       "      <td>0</td>\n",
       "      <td>0</td>\n",
       "      <td>0</td>\n",
       "      <td>0</td>\n",
       "      <td>60</td>\n",
       "      <td>0</td>\n",
       "      <td>0</td>\n",
       "      <td>0</td>\n",
       "    </tr>\n",
       "    <tr>\n",
       "      <th>6</th>\n",
       "      <td>70</td>\n",
       "      <td>0</td>\n",
       "      <td>0</td>\n",
       "      <td>0</td>\n",
       "      <td>0</td>\n",
       "      <td>0</td>\n",
       "      <td>70</td>\n",
       "      <td>0</td>\n",
       "      <td>0</td>\n",
       "    </tr>\n",
       "    <tr>\n",
       "      <th>7</th>\n",
       "      <td>80</td>\n",
       "      <td>0</td>\n",
       "      <td>0</td>\n",
       "      <td>0</td>\n",
       "      <td>0</td>\n",
       "      <td>0</td>\n",
       "      <td>0</td>\n",
       "      <td>80</td>\n",
       "      <td>0</td>\n",
       "    </tr>\n",
       "    <tr>\n",
       "      <th>8</th>\n",
       "      <td>90</td>\n",
       "      <td>0</td>\n",
       "      <td>0</td>\n",
       "      <td>0</td>\n",
       "      <td>0</td>\n",
       "      <td>0</td>\n",
       "      <td>0</td>\n",
       "      <td>0</td>\n",
       "      <td>90</td>\n",
       "    </tr>\n",
       "    <tr>\n",
       "      <th>9</th>\n",
       "      <td>100</td>\n",
       "      <td>50</td>\n",
       "      <td>0</td>\n",
       "      <td>10</td>\n",
       "      <td>0</td>\n",
       "      <td>40</td>\n",
       "      <td>0</td>\n",
       "      <td>0</td>\n",
       "      <td>0</td>\n",
       "    </tr>\n",
       "  </tbody>\n",
       "</table>\n",
       "</div>"
      ],
      "text/plain": [
       "   Transactions   A   B   C   D   E   F   G   H\n",
       "0            10  10   0   0   0   0   0   0   0\n",
       "1            20   0  20   0   0   0   0   0   0\n",
       "2            30  30   0   0   0   0   0   0   0\n",
       "3            40   0   0  40   0   0   0   0   0\n",
       "4            50   0   0   0  50   0   0   0   0\n",
       "5            60   0   0   0   0  60   0   0   0\n",
       "6            70   0   0   0   0   0  70   0   0\n",
       "7            80   0   0   0   0   0   0  80   0\n",
       "8            90   0   0   0   0   0   0   0  90\n",
       "9           100  50   0  10   0  40   0   0   0"
      ]
     },
     "execution_count": 9,
     "metadata": {},
     "output_type": "execute_result"
    }
   ],
   "source": [
    "df"
   ]
  },
  {
   "cell_type": "markdown",
   "id": "f648c642-d2f5-4c1b-b1a0-a0917cae5f41",
   "metadata": {},
   "source": [
    "# Calculate Minimum number of transactions"
   ]
  },
  {
   "cell_type": "code",
   "execution_count": 10,
   "id": "7e722951-a001-4b6c-b0fa-a81af5dbce2a",
   "metadata": {},
   "outputs": [
    {
     "data": {
      "text/plain": [
       "[21.25, -48.75, -18.75, -18.75, 31.25, 1.25, 11.25, 21.25]"
      ]
     },
     "execution_count": 10,
     "metadata": {},
     "output_type": "execute_result"
    }
   ],
   "source": [
    "difference_per_user"
   ]
  },
  {
   "cell_type": "code",
   "execution_count": 11,
   "id": "36e05ece-0b86-4e84-afdc-9cff3241349a",
   "metadata": {},
   "outputs": [
    {
     "name": "stdout",
     "output_type": "stream",
     "text": [
      "[21.25, -48.75, -18.75, -18.75, 31.25, 1.25, 11.25, 21.25]\n"
     ]
    }
   ],
   "source": [
    "#Test_cases\n",
    "print(difference_per_user)\n",
    "#difference_per_user = [145.55, -23.27, 28.63, -53.87, -97.02]\n",
    "#difference_per_user = [5.0, -5.0, -2.0, 2.0, 2.0, -2.0]\n",
    "#difference_per_user = [-10.0, 0.0, 10.0]\n",
    "#difference_per_user =[32.0, 34.0, -21.0, -13.0, -11.0, -21.0]"
   ]
  },
  {
   "cell_type": "code",
   "execution_count": 12,
   "id": "fb72b247-1f75-4943-a1cc-80e6e0e7abb6",
   "metadata": {},
   "outputs": [],
   "source": [
    "#Assumes that all transactions are split evenly!\n",
    "\n",
    "#due to how floats are represented, there will be floating point errors, therefore \n",
    "#sum(difference_per_user) will never = 0, set max(dpe)>0.05 as the cut-off condition for now\n",
    "\n",
    "def calculate_transactions(difference_per_user):\n",
    "    difference_per_user=difference_per_user\n",
    "    max_elem= 0\n",
    "    min_elem= 0\n",
    "\n",
    "    number_transact=0\n",
    "    stored_transactions = [] #format = [[recipient,sender,amount]]\n",
    "    \n",
    "    \n",
    "    while max(difference_per_user)>0.05: \n",
    "\n",
    "        max_elem= max(difference_per_user)\n",
    "        max_index = difference_per_user.index(max_elem)\n",
    "\n",
    "        min_elem = min(difference_per_user)\n",
    "        min_index = difference_per_user.index(min_elem)\n",
    "\n",
    "        #print(\"Max element = {}, Min element = {}\".format(max_elem,min_elem))\n",
    "        #print(difference_per_user)\n",
    "        #print(\"Transactions = \",number_transact)\n",
    "\n",
    "        if (max(difference_per_user)<0.1): #account for floating point errors\n",
    "            difference_per_user = [0] * len(difference_per_user) \n",
    "        else:\n",
    "            number_transact += 1\n",
    "            if (max_elem+min_elem) == 0: #perfect transaction, max = 0, min = 0\n",
    "                difference_per_user[max_index] = 0\n",
    "                difference_per_user[min_index] = 0\n",
    "                stored_transactions.append([max_index,min_index,max_elem])\n",
    "\n",
    "            elif (max_elem+min_elem)<0: #max is fully paid with remainder: max = 0, min =min+max\n",
    "\n",
    "                difference_per_user[max_index] = 0\n",
    "                difference_per_user[min_index] = round(max_elem+min_elem,2)\n",
    "                stored_transactions.append([max_index,min_index,round(max_elem,2)])\n",
    "\n",
    "            elif (max_elem+min_elem)>0: #max debt isn't fully paid: max = max-|min|, min = 0\n",
    "\n",
    "                difference_per_user[max_index] = round(max_elem+min_elem,2)\n",
    "                difference_per_user[min_index] = 0\n",
    "                stored_transactions.append([max_index,min_index,round(min_elem,2)])\n",
    "    #print(difference_per_user)\n",
    "    #print(\"Transactions = \",number_transact)            \n",
    "    \n",
    "    return stored_transactions\n",
    "\n",
    "\n",
    "    "
   ]
  },
  {
   "cell_type": "code",
   "execution_count": 13,
   "id": "462ad78d-08b0-4e85-a57a-0d499b053f54",
   "metadata": {},
   "outputs": [
    {
     "data": {
      "text/plain": [
       "[21.25, -48.75, -18.75, -18.75, 31.25, 1.25, 11.25, 21.25]"
      ]
     },
     "execution_count": 13,
     "metadata": {},
     "output_type": "execute_result"
    }
   ],
   "source": [
    "difference_per_user"
   ]
  },
  {
   "cell_type": "code",
   "execution_count": 14,
   "id": "85c2bc36-9b9b-4c41-99ff-f49bd273424d",
   "metadata": {},
   "outputs": [],
   "source": [
    "stored_transactions = calculate_transactions(difference_per_user)"
   ]
  },
  {
   "cell_type": "code",
   "execution_count": 15,
   "id": "e7e0bcce-8081-4176-995a-1f2a8a1f5be6",
   "metadata": {},
   "outputs": [
    {
     "data": {
      "text/plain": [
       "[[4, 1, 31.25],\n",
       " [0, 2, -18.75],\n",
       " [7, 3, -18.75],\n",
       " [6, 1, 11.25],\n",
       " [0, 1, 2.5],\n",
       " [7, 1, 2.5],\n",
       " [5, 1, 1.25]]"
      ]
     },
     "execution_count": 15,
     "metadata": {},
     "output_type": "execute_result"
    }
   ],
   "source": [
    "stored_transactions"
   ]
  },
  {
   "cell_type": "code",
   "execution_count": 16,
   "id": "b3b9561b-1562-4c26-9755-f0a0c32f6b7a",
   "metadata": {},
   "outputs": [
    {
     "name": "stdout",
     "output_type": "stream",
     "text": [
      "Transaction 1 : E receives 31.25 from B\n",
      "Transaction 2 : A receives -18.75 from C\n",
      "Transaction 3 : H receives -18.75 from D\n",
      "Transaction 4 : G receives 11.25 from B\n",
      "Transaction 5 : A receives 2.5 from B\n",
      "Transaction 6 : H receives 2.5 from B\n",
      "Transaction 7 : F receives 1.25 from B\n"
     ]
    }
   ],
   "source": [
    "for idx,x in enumerate(stored_transactions):\n",
    "    print(\"Transaction {} : {} receives {} from {}\".format(idx+1,df.columns[x[0]+1],x[2],df.columns[x[1]+1]))"
   ]
  }
 ],
 "metadata": {
  "kernelspec": {
   "display_name": "Python 3 (ipykernel)",
   "language": "python",
   "name": "python3"
  },
  "language_info": {
   "codemirror_mode": {
    "name": "ipython",
    "version": 3
   },
   "file_extension": ".py",
   "mimetype": "text/x-python",
   "name": "python",
   "nbconvert_exporter": "python",
   "pygments_lexer": "ipython3",
   "version": "3.9.12"
  }
 },
 "nbformat": 4,
 "nbformat_minor": 5
}
